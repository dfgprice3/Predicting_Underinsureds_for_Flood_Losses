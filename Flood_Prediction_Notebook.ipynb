{
 "cells": [
  {
   "cell_type": "markdown",
   "id": "4f143e03",
   "metadata": {},
   "source": [
    "# Business Problem: Predicting Flood Losses\n",
    "Most insurance carriers do not offer flood insurance for homes and other structures. Instead, the U.S. government offers flood insurance through the National Flood Insurance Program (NFIP). According to the NFIP, 90% of natural disasters involve flood but only 12-14% of households purchase flood insurance. Banks require households to purchase a flood policy for structures that sit within a flood plain, but banks do not require households to verify that the policy coverage is updated over time as structures are improved or as inflation increases the cost to replace the structure.\n",
    "\n",
    "Using claims data acquired from the NFIP, we will build a model to predict whether a policy is underinsured. Underinsured policies occur when a flood loss exceeds the limits specified in the flood insurance contract. This model can be used by homeowners to ensure coverage adequately protects them against flood risks and for the NFIP to ensure policies carry suitable limits, which helps provide sufficient total premiums to cover losses when they do occur. This model can also insulate taxpayers by lessening the need for government agencies to bailout uninsured and underinsured individuals when catastrophes occur.\n",
    "\n",
    "Our analysis will not predict the probability of a household incurring a flood loss. This problem would require a specific listing of flood policies and historical information about floods within each geographic area. Because most households acquire a loan to purchase a property, and because banks compel homeowners to carry flood insurance when risks are present, a model predicting probability of a loss feels unnecessary.\n"
   ]
  },
  {
   "cell_type": "markdown",
   "id": "07899afd",
   "metadata": {},
   "source": [
    "### Data Source - National Flood Insurance Program (NFIP) Claims: \n",
    "- Loss information is tracked for each policy issued by the NFIP. Total losses per claim are provided, and there are additional policy attributes that will help us assess the total insured losses per unit of covered risk.\n",
    "- Data last updated: 4/22/2022\n",
    "- This data set is available through an API and csv. We will use the csv flat file for this project. Link to data: https://www.fema.gov/openfema-data-page/fima-nfip-redacted-claims-v1\n",
    "- Data dictionary can also be found at the link above."
   ]
  },
  {
   "cell_type": "markdown",
   "id": "7334d076",
   "metadata": {},
   "source": [
    "### Target Variable for Our Prediction\n",
    "The model target is the *underinsured indicator* on each claim (1 if True; 0 if False). A claim is deemed underinsured if the claim payment for the building loss is equal to or exceeds the policy limit for building coverage. This field is not available in the NFIP data, but we can calculate it by comparing the two fields noted (building loss amount and building coverage amount).\n",
    "\n",
    "Because the NFIP will not pay more than a policy’s limit specifies, we can not measure or evalute how much a policy is underinsured. Without the total insured loss, we can not suggest appropriate policy limits for underinsured policies. Our model will only seek to identify underinsured policies."
   ]
  },
  {
   "cell_type": "markdown",
   "id": "bbc4a4d7",
   "metadata": {},
   "source": [
    "## PREPROCESSING"
   ]
  },
  {
   "cell_type": "code",
   "execution_count": 1,
   "id": "7660ddaa",
   "metadata": {},
   "outputs": [],
   "source": [
    "import pandas as pd\n",
    "import numpy as np\n",
    "from scipy import stats\n",
    "\n",
    "import matplotlib.pyplot as plt\n",
    "import seaborn as sns\n",
    "\n",
    "from sklearn.preprocessing import StandardScaler\n",
    "from sklearn.model_selection import train_test_split, GridSearchCV\n",
    "from sklearn.linear_model import LogisticRegression\n",
    "from sklearn.ensemble import RandomForestClassifier\n",
    "from sklearn.ensemble import AdaBoostClassifier\n",
    "from sklearn.metrics import accuracy_score, confusion_matrix, classification_report\n",
    "\n",
    "from imblearn.over_sampling import SMOTE"
   ]
  },
  {
   "cell_type": "code",
   "execution_count": 2,
   "id": "350c845c",
   "metadata": {},
   "outputs": [],
   "source": [
    "# Import Claims NFIP dataset. Data sourced from the site above.\n",
    "\n",
    "FILE = 'FimaNfipClaims.csv'\n",
    "\n",
    "claims_df = pd.read_csv(FILE)"
   ]
  },
  {
   "cell_type": "code",
   "execution_count": 3,
   "id": "59433ad6",
   "metadata": {},
   "outputs": [
    {
     "name": "stdout",
     "output_type": "stream",
     "text": [
      "<class 'pandas.core.frame.DataFrame'>\n",
      "RangeIndex: 2568936 entries, 0 to 2568935\n",
      "Data columns (total 40 columns):\n",
      " #   Column                                      Dtype  \n",
      "---  ------                                      -----  \n",
      " 0   agricultureStructureIndicator               float64\n",
      " 1   asOfDate                                    object \n",
      " 2   baseFloodElevation                          float64\n",
      " 3   basementEnclosureCrawlspace                 float64\n",
      " 4   reportedCity                                object \n",
      " 5   condominiumIndicator                        object \n",
      " 6   policyCount                                 float64\n",
      " 7   countyCode                                  float64\n",
      " 8   communityRatingSystemDiscount               float64\n",
      " 9   dateOfLoss                                  object \n",
      " 10  elevatedBuildingIndicator                   float64\n",
      " 11  elevationCertificateIndicator               float64\n",
      " 12  elevationDifference                         float64\n",
      " 13  censusTract                                 float64\n",
      " 14  floodZone                                   object \n",
      " 15  houseWorship                                float64\n",
      " 16  latitude                                    float64\n",
      " 17  longitude                                   float64\n",
      " 18  locationOfContents                          int64  \n",
      " 19  lowestAdjacentGrade                         float64\n",
      " 20  lowestFloorElevation                        float64\n",
      " 21  numberOfFloorsInTheInsuredBuilding          float64\n",
      " 22  nonProfitIndicator                          float64\n",
      " 23  obstructionType                             float64\n",
      " 24  occupancyType                               float64\n",
      " 25  originalConstructionDate                    object \n",
      " 26  originalNBDate                              object \n",
      " 27  amountPaidOnBuildingClaim                   float64\n",
      " 28  amountPaidOnContentsClaim                   float64\n",
      " 29  amountPaidOnIncreasedCostOfComplianceClaim  float64\n",
      " 30  postFIRMConstructionIndicator               float64\n",
      " 31  rateMethod                                  object \n",
      " 32  smallBusinessIndicatorBuilding              float64\n",
      " 33  state                                       object \n",
      " 34  totalBuildingInsuranceCoverage              float64\n",
      " 35  totalContentsInsuranceCoverage              float64\n",
      " 36  yearOfLoss                                  int64  \n",
      " 37  reportedZipcode                             float64\n",
      " 38  primaryResidence                            float64\n",
      " 39  id                                          object \n",
      "dtypes: float64(28), int64(2), object(10)\n",
      "memory usage: 784.0+ MB\n"
     ]
    }
   ],
   "source": [
    "# List of fields available for our analysis.\n",
    "\n",
    "claims_df.info()"
   ]
  },
  {
   "cell_type": "markdown",
   "id": "9f6f03b1",
   "metadata": {},
   "source": [
    "**Step 1: Convert Data Types**\n",
    "\n",
    "Some of the indicators and the year of loss variable were converted to float values upon import. This will create issues within our model and need to be converted to objects."
   ]
  },
  {
   "cell_type": "code",
   "execution_count": 4,
   "id": "16d0df1e",
   "metadata": {},
   "outputs": [],
   "source": [
    "# Convert indicator fields from float to objects.\n",
    "\n",
    "INDICATORFIELDS = ['agricultureStructureIndicator', 'countyCode', 'elevatedBuildingIndicator',\n",
    "                   'houseWorship', 'nonProfitIndicator', 'occupancyType', 'obstructionType',\n",
    "                   'postFIRMConstructionIndicator', 'yearOfLoss', 'reportedZipcode',\n",
    "                   'primaryResidence', 'smallBusinessIndicatorBuilding', 'communityRatingSystemDiscount']\n",
    "\n",
    "for x in INDICATORFIELDS:\n",
    "    claims_df[x] = claims_df[x].astype('object')"
   ]
  },
  {
   "cell_type": "code",
   "execution_count": 5,
   "id": "6d6d0dd3",
   "metadata": {},
   "outputs": [
    {
     "name": "stdout",
     "output_type": "stream",
     "text": [
      "<class 'pandas.core.frame.DataFrame'>\n",
      "RangeIndex: 2568936 entries, 0 to 2568935\n",
      "Data columns (total 13 columns):\n",
      " #   Column                          Dtype \n",
      "---  ------                          ----- \n",
      " 0   agricultureStructureIndicator   object\n",
      " 1   countyCode                      object\n",
      " 2   elevatedBuildingIndicator       object\n",
      " 3   houseWorship                    object\n",
      " 4   nonProfitIndicator              object\n",
      " 5   occupancyType                   object\n",
      " 6   obstructionType                 object\n",
      " 7   postFIRMConstructionIndicator   object\n",
      " 8   yearOfLoss                      object\n",
      " 9   reportedZipcode                 object\n",
      " 10  primaryResidence                object\n",
      " 11  smallBusinessIndicatorBuilding  object\n",
      " 12  communityRatingSystemDiscount   object\n",
      "dtypes: object(13)\n",
      "memory usage: 254.8+ MB\n"
     ]
    }
   ],
   "source": [
    "# Verify fields were converted to floats.\n",
    "\n",
    "claims_df[INDICATORFIELDS].info()"
   ]
  },
  {
   "cell_type": "code",
   "execution_count": 6,
   "id": "68b1bfba",
   "metadata": {},
   "outputs": [],
   "source": [
    "# Fill blanks in dates. Blanks are minimal, so we'll use a dummy date at start of 2022.\n",
    "\n",
    "claims_df['originalNBDate'] = claims_df['originalNBDate'].fillna('2022-01-01 12:00:00+00:00')\n",
    "claims_df['originalConstructionDate'] = claims_df['originalConstructionDate'].fillna('2022-01-01 12:00:00+00:00')\n",
    "\n",
    "# Convert original NB date and construction date fields to datetime.\n",
    "\n",
    "claims_df['originalNBDate'] = pd.to_datetime(claims_df['originalNBDate'], utc=True)\n",
    "claims_df['originalConstructionDate'] = pd.to_datetime(claims_df['originalConstructionDate'])"
   ]
  },
  {
   "cell_type": "code",
   "execution_count": 7,
   "id": "de3d4c32",
   "metadata": {},
   "outputs": [
    {
     "name": "stdout",
     "output_type": "stream",
     "text": [
      "<class 'pandas.core.frame.DataFrame'>\n",
      "RangeIndex: 2568936 entries, 0 to 2568935\n",
      "Data columns (total 2 columns):\n",
      " #   Column                    Dtype              \n",
      "---  ------                    -----              \n",
      " 0   originalNBDate            datetime64[ns, UTC]\n",
      " 1   originalConstructionDate  datetime64[ns, UTC]\n",
      "dtypes: datetime64[ns, UTC](2)\n",
      "memory usage: 39.2 MB\n"
     ]
    }
   ],
   "source": [
    "# Verify date conversion.\n",
    "\n",
    "claims_df[['originalNBDate', 'originalConstructionDate']].info()"
   ]
  },
  {
   "cell_type": "markdown",
   "id": "c77e2303",
   "metadata": {},
   "source": [
    "**Step 2: Create Total & Loss Target Variable**\n",
    "\n",
    "The claims data splits claims payments into 3 categories - building losses, contents losses, and government special payments. Most analysis will likely focus on a total, so this step adds a total loss column comprised of the 3 loss components.\n",
    "\n",
    "For measuring underinsured values, this analysis will focus on the building coverage. In cases where the claim payment exceeds or is equal to the limits provided by the insurance policy, we will declare that a total loss. In these cases, the insured likely did not get fully compensated for their loss and will be deemed \"underinsured\".\n",
    "\n",
    "As noted in the analysis below, there are 23% of claims where no payment was issued. No comment was made in the documentation regarding errors with payments. Claims without payment are likely people who filed a claim but were deemed not covered by their insurance policy. For measuring severity of a claim, we will remove these records from our data set."
   ]
  },
  {
   "cell_type": "code",
   "execution_count": 8,
   "id": "67736b21",
   "metadata": {},
   "outputs": [],
   "source": [
    "# Replace NaN values with zeros for the 3 payment and 2 coverage fields.\n",
    "\n",
    "TARGETFIELDS = ['amountPaidOnBuildingClaim', 'amountPaidOnContentsClaim', 'amountPaidOnIncreasedCostOfComplianceClaim',\n",
    "                'totalBuildingInsuranceCoverage', 'totalContentsInsuranceCoverage']\n",
    "\n",
    "for x in TARGETFIELDS:\n",
    "    claims_df[x] = claims_df[x].fillna(0)"
   ]
  },
  {
   "cell_type": "code",
   "execution_count": 9,
   "id": "fcc25298",
   "metadata": {},
   "outputs": [],
   "source": [
    "# Create total loss field.\n",
    "\n",
    "claims_df['Total_Loss'] = claims_df['amountPaidOnBuildingClaim'] + claims_df['amountPaidOnContentsClaim'] +\\\n",
    "                          claims_df['amountPaidOnIncreasedCostOfComplianceClaim']"
   ]
  },
  {
   "cell_type": "code",
   "execution_count": 10,
   "id": "2c46989a",
   "metadata": {},
   "outputs": [],
   "source": [
    "# Identify whether the claim was underinsured. The measure is whether the loss paid on buildings exceeds the loss\n",
    "# coverage amount.\n",
    "\n",
    "claims_df['Underinsured'] = 0\n",
    "\n",
    "claims_df.loc[(claims_df['amountPaidOnBuildingClaim']>=claims_df['totalBuildingInsuranceCoverage']) &\n",
    "              (claims_df['Total_Loss']>0), 'Underinsured'] = 1"
   ]
  },
  {
   "cell_type": "code",
   "execution_count": 11,
   "id": "47d60ec0",
   "metadata": {},
   "outputs": [
    {
     "name": "stdout",
     "output_type": "stream",
     "text": [
      "Total Number of Claims without Payment: 580906\n",
      "Percentage of Claims without Payment:0.23\n"
     ]
    }
   ],
   "source": [
    "# Measure claims where total paid losses are 0.\n",
    "\n",
    "loss_free_count = claims_df.loc[claims_df['Total_Loss']==0]['id'].count()\n",
    "\n",
    "print(f'Total Number of Claims without Payment: {loss_free_count}')\n",
    "print(f'Percentage of Claims without Payment:{loss_free_count/claims_df.shape[0]:.2f}')"
   ]
  },
  {
   "cell_type": "code",
   "execution_count": 12,
   "id": "a3128273",
   "metadata": {},
   "outputs": [],
   "source": [
    "# Remove claims where no payment was issued.\n",
    "\n",
    "claims_df = claims_df.loc[claims_df['Total_Loss']>0]"
   ]
  },
  {
   "cell_type": "markdown",
   "id": "3ca9d8be",
   "metadata": {},
   "source": [
    "## EXPLORATORY DATA ANALYSIS"
   ]
  },
  {
   "cell_type": "markdown",
   "id": "49d74480",
   "metadata": {},
   "source": [
    "An evaluation of the total flood losses and distribution of underinsured policies will aid in identifying suitable features for our model. We will need to understand the nature of flood losses, which is reviewed over time, by event, and by geography. Distributions of underinsureds are presented to identify any adjustments required for modeling.\n",
    "\n",
    "**Total Flood Losses by Year**<br>\n",
    "Flood losses have trended higher since the 1970’s. Within the 2000-2020 years, there have been several large flooding events caused by hurricanes. Spikes in the data are evident in the chart below."
   ]
  },
  {
   "cell_type": "code",
   "execution_count": 13,
   "id": "a344d318",
   "metadata": {},
   "outputs": [
    {
     "data": {
      "image/png": "[encoded data removed]",
      "text/plain": [
       "<Figure size 864x288 with 1 Axes>"
      ]
     },
     "metadata": {
      "needs_background": "light"
     },
     "output_type": "display_data"
    }
   ],
   "source": [
    "# Group total losses by year and graph.\n",
    "\n",
    "plt.figure(figsize=(12,4))\n",
    "loss_year_df = claims_df.groupby('yearOfLoss', as_index=False)['Total_Loss'].sum()\n",
    "\n",
    "plt.plot(loss_year_df['yearOfLoss'], loss_year_df['Total_Loss']/1000000);\n",
    "plt.title('Total Flood Losses, by Year');\n",
    "plt.ylabel('Losses ($Millions)');"
   ]
  },
  {
   "cell_type": "markdown",
   "id": "f46ec5b1",
   "metadata": {},
   "source": [
    "**Flood Losses by Major Catastrophe Event**<br>\n",
    "Based on the information from the Insurance Institute, the large losses in 2005, 2012, and 2017 are the result of certain events. Large losses are considered rare (low probability of occurring over time). Additional exploration of underinsureds for these events is needed to ensure model predictions aren't overly influenced by these rare events.\n",
    "\n",
    "Top 10 Most Significant Flood Events By National Flood Insurance Program Payouts (1)\n",
    "\n",
    "|Rank|Date\t    | Event\t     | Claim No.| Amount paid(M)\t| Average paid loss |\n",
    "|---|---      | ---              |---       |---              |---                |\n",
    "|1 |Aug. 2005|\tHurricane Katrina|\t168,256|16,092|     \t95,640|\n",
    "|2 |\tSep. 2017|\tHurricane Harvey|\t78,254|\t9,171|\t117,192|\n",
    "|3 |\tOct. 2012|\tSuperstorm Sandy|\t132,897|\t8,619|\t64,852|\n",
    "|4 |\tSep. 2008|\tHurricane Ike|\t47,247|\t2,670|\t56,517|\n",
    "|5 |\tAug. 2016|\tLouisiana severe storms and flooding|\t27,737|\t2,536|\t91,432|\n",
    "|6 |\tSep. 2004|\tHurricane Ivan|\t31,981|\t1,688|\t52,791|\n",
    "|7 |\tSep. 2021|\tHurricane Ida|\t28,544|\t1,589|\t55,658|\n",
    "|8 |\tSep. 2004|\tHurricane Jeanne|\t31,486|\t1,513|\t48,062|\n",
    "|9 |Aug. 2011|\tHurricane Irene|\t44,178|\t1,321|\t29,894|\n",
    "|10|\tSep. 2017|\tHurricane Irma|\t23,119|\t1,153|\t49,884|\n",
    "\n",
    "\n",
    "(1) Includes events from 1978 to December 31, 2021 as of March 9, 2022. Defined by the National Flood Insurance Program as an event that produces at least 1,500 paid losses. Stated in dollars when occurred."
   ]
  },
  {
   "cell_type": "markdown",
   "id": "59b5f48d",
   "metadata": {},
   "source": [
    "Hurricane Katrina in 2005 resulted in massive flooding that submerged a lot of the New Orleans area for weeks. This flooding event resulted in many total property losses within New Orleans. The rarity and significance of this flood resulted in a large spike in underinsured losses. We will need to adjust for this in our modeling to avoid this rare event overinfluencing our target projections. This may require building a model without Katrina losses or balancing other underinsured losses to compensate for the larger percentage of Katrina claims. Exhibits below show spikes in underinsureds during 2005 and for the state of Louisiana."
   ]
  },
  {
   "cell_type": "code",
   "execution_count": 14,
   "id": "f3bb9472",
   "metadata": {},
   "outputs": [],
   "source": [
    "# Presenting the number of underinsureds over time.\n",
    "\n",
    "underinsured_count = claims_df.pivot_table(index='yearOfLoss', columns='Underinsured', values='id', aggfunc='count')\n",
    "\n",
    "underinsured_count = underinsured_count.rename(columns={0:'Proper_Coverage', 1:'Underinsured'}).reset_index()\n",
    "\n",
    "# Calculate percentage of underinsured\n",
    "underinsured_count['Percent_Underinsured'] = (underinsured_count['Underinsured'] / (underinsured_count['Proper_Coverage']+underinsured_count['Underinsured']))"
   ]
  },
  {
   "cell_type": "code",
   "execution_count": 15,
   "id": "2ffb6646",
   "metadata": {},
   "outputs": [
    {
     "name": "stdout",
     "output_type": "stream",
     "text": [
      "0.12\n"
     ]
    }
   ],
   "source": [
    "# Calculate the average percent underinsured across all years.\n",
    "\n",
    "avg_underinsured = sum(underinsured_count['Underinsured'].dropna()) / (sum(underinsured_count['Proper_Coverage'].dropna()) +\\\n",
    "                                                                       sum(underinsured_count['Underinsured'].dropna()))\n",
    "\n",
    "print('{:.2f}'.format(avg_underinsured))"
   ]
  },
  {
   "cell_type": "code",
   "execution_count": 16,
   "id": "380eced4",
   "metadata": {},
   "outputs": [
    {
     "data": {
      "image/png": "[encoded data removed]",
      "text/plain": [
       "<Figure size 864x288 with 1 Axes>"
      ]
     },
     "metadata": {
      "needs_background": "light"
     },
     "output_type": "display_data"
    }
   ],
   "source": [
    "# Create a stacked bar chart of underinsured vs. properly insured.\n",
    "plt.figure(figsize=(12,4))\n",
    "\n",
    "sns.lineplot(data=underinsured_count, x='yearOfLoss', y='Percent_Underinsured', legend=None, color='orange');\n",
    "plt.title('Percent Underinsured by Year');\n",
    "plt.xlabel('Year');\n",
    "plt.ylabel('Percentage of Claims');"
   ]
  },
  {
   "cell_type": "code",
   "execution_count": 17,
   "id": "68209153",
   "metadata": {},
   "outputs": [],
   "source": [
    "# Calculate the number and percentage of underinsureds by state.\n",
    "\n",
    "underinsured_count_st = claims_df.pivot_table(index='state', columns='Underinsured', values='id', aggfunc='count')\n",
    "\n",
    "underinsured_count_st = underinsured_count_st.rename(columns={0:'Proper_Coverage', 1:'Underinsured'}).reset_index()\n",
    "\n",
    "# Calculate percentage of underinsured\n",
    "underinsured_count_st['Percent_Underinsured'] = (underinsured_count_st['Underinsured'] / (underinsured_count_st['Proper_Coverage']+underinsured_count_st['Underinsured']))"
   ]
  },
  {
   "cell_type": "code",
   "execution_count": 18,
   "id": "57142705",
   "metadata": {},
   "outputs": [
    {
     "data": {
      "image/png": "[encoded data removed]",
      "text/plain": [
       "<Figure size 1080x288 with 1 Axes>"
      ]
     },
     "metadata": {
      "needs_background": "light"
     },
     "output_type": "display_data"
    }
   ],
   "source": [
    "# Create a stacked bar chart of underinsured vs. properly insured.\n",
    "plt.figure(figsize=(15,4))\n",
    "\n",
    "# Organize data by most underinsureds for graphing.\n",
    "underinsured_count_st = underinsured_count_st.sort_values(by='Underinsured', ascending=False)\n",
    "\n",
    "# Graph underinsured counts\n",
    "sns.barplot(data=underinsured_count_st, x='state', y='Underinsured');\n",
    "plt.title('Top 30 States with the Most Underinsured claims');\n",
    "plt.xlim([-0.5,30.5]);"
   ]
  },
  {
   "cell_type": "markdown",
   "id": "bae045e4",
   "metadata": {},
   "source": [
    "**Geographic Split of Underinsured Losses**<br>\n",
    "Geographic location may influence the rate of underinsured. Geographic location may be influenced by trends in property inflation or economic status of homeowners. It may also be influenced by the presence of large flooding events; those that cause substantial damage likely to exceed homeowner policy limits. It will be important to assess causes of geographic results when building features."
   ]
  },
  {
   "cell_type": "code",
   "execution_count": 19,
   "id": "bbba3a75",
   "metadata": {},
   "outputs": [
    {
     "data": {
      "image/png": "[encoded data removed]",
      "text/plain": [
       "<Figure size 1080x288 with 1 Axes>"
      ]
     },
     "metadata": {
      "needs_background": "light"
     },
     "output_type": "display_data"
    }
   ],
   "source": [
    "# Create a stacked bar chart of underinsured percentage.\n",
    "plt.figure(figsize=(15,4))\n",
    "\n",
    "# Organize data by highest underinsured percentage for graphing.\n",
    "underinsured_count_st = underinsured_count_st.sort_values(by='Percent_Underinsured', ascending=False)\n",
    "\n",
    "# Graph underinsured counts\n",
    "sns.barplot(data=underinsured_count_st, x='state', y='Percent_Underinsured');\n",
    "plt.title('Top 30 States with the Highest Percentage of Underinsured Losses');\n",
    "plt.xlim([-0.5,30.5]);"
   ]
  },
  {
   "cell_type": "markdown",
   "id": "39a8ac65",
   "metadata": {},
   "source": [
    "**Split of Underinsureds by Occupancy Type**<br>\n",
    "Occupancy type appears to be a meaningful variable for our model. Non-residential buildings have a higher percentage of underinsured losses while single family residences have a lower than average value. Categories may need to be grouped to ensure there are enough samples in each category to be meaningful. Also, there is a percentage of “unknowns” that will need to be addressed within our model."
   ]
  },
  {
   "cell_type": "code",
   "execution_count": 20,
   "id": "0ac8dd59",
   "metadata": {},
   "outputs": [],
   "source": [
    "# Calculate the number and percentage of underinsureds by occupancy type.\n",
    "\n",
    "underinsured_occup = claims_df.pivot_table(index='occupancyType', columns='Underinsured', values='id', aggfunc='count')\n",
    "\n",
    "underinsured_occup = underinsured_occup.rename(columns={0:'Proper_Coverage', 1:'Underinsured'}).reset_index()\n",
    "\n",
    "# Calculate percentage of underinsured\n",
    "underinsured_occup['Percent_Underinsured'] = (underinsured_occup['Underinsured'] / (underinsured_occup['Proper_Coverage']+underinsured_occup['Underinsured']))"
   ]
  },
  {
   "cell_type": "code",
   "execution_count": 21,
   "id": "4381b46f",
   "metadata": {},
   "outputs": [],
   "source": [
    "# Translate values in Occupancy Type Field to Labels.\n",
    "\n",
    "occ_codes = {'1': 'Single family residence', \n",
    "             '2': '2-4 unit residential building',\n",
    "             '3': 'Residential building 4+ units',\n",
    "             '4': 'Non-residential building',\n",
    "             '11': 'Single-family residential building',\n",
    "             '12': 'Residential non-condo building with 2-4 units', \n",
    "             '13': 'Residential non-condo building with 5+ units',\n",
    "             '14': 'Residential mobile/manufactured home', \n",
    "             '15': 'Residential condo association',\n",
    "             '16': 'Single residential unit within a multi-unit building',\n",
    "             '17': 'Non-residential mobile/manufactured home',\n",
    "             '18': 'Non-residential building',\n",
    "             '19': 'Non-residential unit within a multi-unit building'}"
   ]
  },
  {
   "cell_type": "code",
   "execution_count": 22,
   "id": "4a1ae746",
   "metadata": {},
   "outputs": [
    {
     "data": {
      "image/png": "[encoded data removed]",
      "text/plain": [
       "<Figure size 1080x288 with 1 Axes>"
      ]
     },
     "metadata": {
      "needs_background": "light"
     },
     "output_type": "display_data"
    }
   ],
   "source": [
    "# Create a stacked bar chart of underinsured vs. properly insured.\n",
    "plt.figure(figsize=(15,4))\n",
    "\n",
    "# Organize data by most underinsureds for graphing.\n",
    "underinsured_occup = underinsured_occup.sort_values(by='Underinsured', ascending=False)\n",
    "\n",
    "# Graph underinsured counts\n",
    "sns.barplot(data=underinsured_occup, x='occupancyType', y='Percent_Underinsured');\n",
    "plt.title('Percentage of Underinsured Losses, by Occupancy Type');\n",
    "plt.xticks(ticks=[0,1,2,3,4,5,6,7,8,9,10,11], \n",
    "           labels=['Single Family Residence', 'Multi-family 2-4', 'Residential 4+ units',\n",
    "           'Non-residential building', 'Unknown', 'Single family res building',\n",
    "           'Non-Condo 2-4 units', 'Non-Condo 4+ units', 'Mobile Home', 'Condo Assoc',\n",
    "           'Single unit within Multi-unit', 'Non-residential building'],\n",
    "          rotation=45);\n"
   ]
  },
  {
   "cell_type": "markdown",
   "id": "949ecae2",
   "metadata": {},
   "source": [
    "### EDA Summary\n",
    "The data set contains a number of additional elements about the property structure, occupancy reason, and geographic location to use for the model. Early review of the features above suggest at least some should be predictive. \n",
    "\n",
    "The data set includes 2.6M claim records, which should be sufficient for modeling. Twenty-three percent of claims will need to be excluded as no loss was ever paid. The net retained records of 2M should be sufficient for modeling.\n",
    "\n",
    "While the data set likely contains enough features and data for modeling, consideration will need to be inbalanced target class and the presence of larger, rare events that may be distorting our target variable and features.  "
   ]
  },
  {
   "cell_type": "markdown",
   "id": "ae4188e1",
   "metadata": {},
   "source": [
    "# MILESTONE 2: Feature Extraction and Engineering"
   ]
  },
  {
   "cell_type": "markdown",
   "id": "42e5ae94",
   "metadata": {},
   "source": [
    "#### Step 1: Drop Columns Not Relevant for Modeling\n",
    "\n",
    "There are a few fields that will not be relevant for modeling. These include:\n",
    "- 'id': Field is a randomized identifier of record for matching to NFIP internal database. Not usable or interpretable otherwise.\n",
    "- 'asOfDate': Field is system timestamp of data refresh. Delete due to system key.\n",
    "- 'longitude': Remove longitude field. We will be using city and state as factors; this is duplicative.\n",
    "- 'latitude': Remove latitude field. We will be using city and state as factors; this is duplicative.\n",
    "- 'reportedCity': This data is listed as \"Temporarily Unavailable\" and will need to be dropped.\n",
    "- 'reportedZipcode': Remove as we will use state for our model. Zipcode may  be too granular to derive correlations given the sparcity of claims within each zipcode (other than Katrina or megacats).\n",
    "- 'censusTract': Another measurement of location, focusing on geolocation. We will use state and county for our model.\n",
    "- 'dateOfLoss': 'dateOfLoss' overlaps with year of loss and is too granular given the sparcity of claims on a given day.\n",
    "- 'policyCount': The principal value is 1, but there are a very small percentage of policies with a value greater than 1. Due to the low variance of this feature and the number of columns this produces, this feature will be removed to improve model run performance (300 columns are removed). \n",
    "- Several variables were removed as earlier runs with these variables did not improve the F1 Score:\n",
    "    - 'originalConstructionDate', 'originalNBDate', 'elevationCertificateIndicator', elevationDifference', 'baseFloodElevation'\n",
    "\n",
    "The model is having difficulty processing steps due to data size. We will eliminate 'countyCode' to get an initial assessment. County is the most sparce and has some overlap with state. We will re-evaluate this after preliminary modeling."
   ]
  },
  {
   "cell_type": "code",
   "execution_count": 23,
   "id": "53e4caf0",
   "metadata": {},
   "outputs": [],
   "source": [
    "# Remove all fields, noted above, with no modeling value.\n",
    "\n",
    "del_fields = ['id', 'asOfDate', 'longitude', 'latitude', 'reportedCity', 'reportedZipcode', \n",
    "              'countyCode', 'censusTract', 'dateOfLoss', 'policyCount', 'originalConstructionDate', \n",
    "              'originalNBDate', 'elevationCertificateIndicator', 'elevationDifference', 'baseFloodElevation',\n",
    "             ]\n",
    "\n",
    "claims_df_pipeline = claims_df.drop(del_fields, axis=1)"
   ]
  },
  {
   "cell_type": "markdown",
   "id": "d5099ef1",
   "metadata": {},
   "source": [
    "### Step 2: Remove all columns where our null values exceed 30% of the records."
   ]
  },
  {
   "cell_type": "code",
   "execution_count": 24,
   "id": "40a4737a",
   "metadata": {},
   "outputs": [],
   "source": [
    "# Remove all fields with more than 30% null values.\n",
    "max_null_records = claims_df_pipeline.shape[0] * 0.30\n",
    "\n",
    "# Find columns with excessive nulls.\n",
    "null_cols = claims_df_pipeline.columns[claims_df_pipeline.isnull().sum() > max_null_records]\n",
    "\n",
    "# Drop columns\n",
    "try:\n",
    "    claims_df_pipeline = claims_df_pipeline.drop(null_cols, axis=1)\n",
    "except:\n",
    "    print('Columns were not deleted. These columns may have already been deleted.')"
   ]
  },
  {
   "cell_type": "markdown",
   "id": "149e477f",
   "metadata": {},
   "source": [
    "#### Step 3: Remove features used to construct our target variable.\n",
    "The target variable is uninsured (y/n). The target value was constructed using loss values, which will be highly correlated. We are also removing loss values, because our model is trying to predict whether a policy is uninsured and claims data will not be present when insured purchase their limit."
   ]
  },
  {
   "cell_type": "code",
   "execution_count": 25,
   "id": "e3d92524",
   "metadata": {},
   "outputs": [],
   "source": [
    "# List of fields with data about the claim, including those used to construct our target variable.\n",
    "\n",
    "loss_fields = ['amountPaidOnBuildingClaim','amountPaidOnContentsClaim', 'amountPaidOnIncreasedCostOfComplianceClaim',\n",
    "               'Total_Loss', 'yearOfLoss']\n",
    "\n",
    "# Remove claims-related fields.\n",
    "try:\n",
    "    claims_df_pipeline = claims_df_pipeline.drop(loss_fields, axis=1)\n",
    "except:\n",
    "    print('Columns were not deleted. These columns may have already been deleted.')"
   ]
  },
  {
   "cell_type": "code",
   "execution_count": 26,
   "id": "b33317a2",
   "metadata": {},
   "outputs": [
    {
     "name": "stdout",
     "output_type": "stream",
     "text": [
      "Original columns in dataframe: 42\n",
      "Columns in model pipeline after steps 1-3: 18\n",
      "Removed columns: 24\n"
     ]
    }
   ],
   "source": [
    "# Verify number of columns deleted from model pipeline after steps 1-3.\n",
    "print(f'Original columns in dataframe: {claims_df.shape[1]}')\n",
    "print(f'Columns in model pipeline after steps 1-3: {claims_df_pipeline.shape[1]}')\n",
    "print(f'Removed columns: {claims_df.shape[1] - claims_df_pipeline.shape[1]}')"
   ]
  },
  {
   "cell_type": "markdown",
   "id": "3626ee53",
   "metadata": {},
   "source": [
    "#### Step 4: Fill all NA Values in Remaining Fields"
   ]
  },
  {
   "cell_type": "code",
   "execution_count": 27,
   "id": "be9e5395",
   "metadata": {},
   "outputs": [
    {
     "data": {
      "text/plain": [
       "agricultureStructureIndicator             61\n",
       "condominiumIndicator                   27810\n",
       "elevatedBuildingIndicator                 61\n",
       "floodZone                             106613\n",
       "houseWorship                              61\n",
       "locationOfContents                         0\n",
       "lowestFloorElevation                       0\n",
       "numberOfFloorsInTheInsuredBuilding     12526\n",
       "nonProfitIndicator                        61\n",
       "occupancyType                            518\n",
       "postFIRMConstructionIndicator             61\n",
       "rateMethod                             41233\n",
       "smallBusinessIndicatorBuilding            61\n",
       "state                                      9\n",
       "totalBuildingInsuranceCoverage             0\n",
       "totalContentsInsuranceCoverage             0\n",
       "primaryResidence                           3\n",
       "Underinsured                               0\n",
       "dtype: int64"
      ]
     },
     "execution_count": 27,
     "metadata": {},
     "output_type": "execute_result"
    }
   ],
   "source": [
    "# Identify all Null Values\n",
    "\n",
    "claims_df_pipeline.isnull().sum()"
   ]
  },
  {
   "cell_type": "code",
   "execution_count": 28,
   "id": "2b745daf",
   "metadata": {},
   "outputs": [],
   "source": [
    "# Populate 'floodZone' with \"NoFLood\".\n",
    "\n",
    "claims_df_pipeline['floodZone'] = claims_df_pipeline['floodZone'].fillna('No')"
   ]
  },
  {
   "cell_type": "code",
   "execution_count": 29,
   "id": "af8cedf2",
   "metadata": {},
   "outputs": [],
   "source": [
    "# Remaining values are generally a very small percentage, except rateMethod. We will populate these with the mode.\n",
    "\n",
    "for c in claims_df_pipeline.columns:\n",
    "    claims_df_pipeline[c].fillna(claims_df_pipeline[c].mode()[0], inplace=True)    "
   ]
  },
  {
   "cell_type": "code",
   "execution_count": 30,
   "id": "0fafb66e",
   "metadata": {},
   "outputs": [
    {
     "data": {
      "text/plain": [
       "agricultureStructureIndicator         0\n",
       "condominiumIndicator                  0\n",
       "elevatedBuildingIndicator             0\n",
       "floodZone                             0\n",
       "houseWorship                          0\n",
       "locationOfContents                    0\n",
       "lowestFloorElevation                  0\n",
       "numberOfFloorsInTheInsuredBuilding    0\n",
       "nonProfitIndicator                    0\n",
       "occupancyType                         0\n",
       "postFIRMConstructionIndicator         0\n",
       "rateMethod                            0\n",
       "smallBusinessIndicatorBuilding        0\n",
       "state                                 0\n",
       "totalBuildingInsuranceCoverage        0\n",
       "totalContentsInsuranceCoverage        0\n",
       "primaryResidence                      0\n",
       "Underinsured                          0\n",
       "dtype: int64"
      ]
     },
     "execution_count": 30,
     "metadata": {},
     "output_type": "execute_result"
    }
   ],
   "source": [
    "# Verify no nulls remain in the pipeline.\n",
    "\n",
    "claims_df_pipeline.isnull().sum()"
   ]
  },
  {
   "cell_type": "markdown",
   "id": "4dea7ba4",
   "metadata": {},
   "source": [
    "#### Step 5: Run a Correlation Matrix to Assess Correlated Values\n",
    "The numerical features are not highly correlated. No adjustments to numerical fields are necessary."
   ]
  },
  {
   "cell_type": "code",
   "execution_count": 31,
   "id": "01dee1f7",
   "metadata": {},
   "outputs": [
    {
     "data": {
      "image/png": "[encoded data removed]",
      "text/plain": [
       "<Figure size 432x288 with 2 Axes>"
      ]
     },
     "metadata": {
      "needs_background": "light"
     },
     "output_type": "display_data"
    }
   ],
   "source": [
    "corr_values = claims_df_pipeline.corr()\n",
    "\n",
    "sns.heatmap(corr_values);\n",
    "plt.title('Correlation Heatmap for Numerical Features');"
   ]
  },
  {
   "cell_type": "markdown",
   "id": "61c427ac",
   "metadata": {},
   "source": [
    "#### Step 6: Create Dummy Variables for all Categorical Variables. Save to Pipeline V2."
   ]
  },
  {
   "cell_type": "code",
   "execution_count": 32,
   "id": "f72de850",
   "metadata": {},
   "outputs": [],
   "source": [
    "# Identify all columns that are non-numerics.\n",
    "\n",
    "obj_cols = [c for c in claims_df_pipeline.columns if claims_df_pipeline[c].dtypes=='object']"
   ]
  },
  {
   "cell_type": "code",
   "execution_count": 33,
   "id": "22c8772f",
   "metadata": {},
   "outputs": [],
   "source": [
    "# Create dummy variables for categorical variables.\n",
    "\n",
    "claims_df_pipeline2 = pd.get_dummies(claims_df_pipeline, columns=obj_cols, drop_first=True)"
   ]
  },
  {
   "cell_type": "code",
   "execution_count": 34,
   "id": "d1b7f567",
   "metadata": {},
   "outputs": [
    {
     "name": "stdout",
     "output_type": "stream",
     "text": [
      "Shape of original pipeline: (1987956, 18)\n",
      "Shape of onehot pipeline: (1987956, 166)\n"
     ]
    }
   ],
   "source": [
    "# Verify shape of outputs.\n",
    "print(f'Shape of original pipeline: {claims_df_pipeline.shape}')\n",
    "print(f'Shape of onehot pipeline: {claims_df_pipeline2.shape}')"
   ]
  },
  {
   "cell_type": "markdown",
   "id": "9c9ea846",
   "metadata": {},
   "source": [
    "#### Step 7: Measure Class Imbalance of Target Variable\n",
    "There is an imbalance in our classes for our target variable. The underinsured population represents 11.7% of the population. When building our model sample set, we will need to consider methods to balance the classes."
   ]
  },
  {
   "cell_type": "code",
   "execution_count": 35,
   "id": "94601860",
   "metadata": {},
   "outputs": [
    {
     "name": "stdout",
     "output_type": "stream",
     "text": [
      "Percentage of properly underinsured(1) claims in target:\n"
     ]
    },
    {
     "data": {
      "text/plain": [
       "0    0.883188\n",
       "1    0.116812\n",
       "Name: Underinsured, dtype: float64"
      ]
     },
     "execution_count": 35,
     "metadata": {},
     "output_type": "execute_result"
    }
   ],
   "source": [
    "print('Percentage of properly underinsured(1) claims in target:')\n",
    "claims_df_pipeline2['Underinsured'].value_counts(normalize=True)"
   ]
  },
  {
   "cell_type": "markdown",
   "id": "0561531b",
   "metadata": {},
   "source": [
    "# MILESTONE 3: Modeling"
   ]
  },
  {
   "cell_type": "markdown",
   "id": "807765ac",
   "metadata": {},
   "source": [
    "Our model is to classify whether a customer with a loss is likely to be underinsured. We will use two models, logistic regression and a random forest model, to predict underinsureds. \n",
    "\n",
    "Models will need to be scaled, using StandardScaler, and will need to account for imbalance in the target class. SMOTE is a synthetic oversampling technique that will allow us to equalize the number of observations of the underinsured class. \n",
    "\n",
    "Our original feature set contained 500+ columns. Initial attempts to use PCA and Linear Discriminant Analysis were ineffective is significantly reducing features. Through iteration, categorical variables noted in section 2 were removed that did help our performance metric.\n",
    "\n",
    "Because we are predicting underinsureds, a relatively small portion of the data set, we will use the F1 score as our performance metric. "
   ]
  },
  {
   "cell_type": "markdown",
   "id": "c9db24f2",
   "metadata": {},
   "source": [
    "#### Step 1: Split Data into Train and Test Sets"
   ]
  },
  {
   "cell_type": "code",
   "execution_count": 36,
   "id": "e21124a4",
   "metadata": {},
   "outputs": [],
   "source": [
    "# Split target variable and features.\n",
    "\n",
    "target = claims_df_pipeline2['Underinsured']\n",
    "features = claims_df_pipeline2.drop(['Underinsured'], axis=1)\n",
    "\n",
    "# Split data into train and test with 30% reserved for testing.\n",
    "\n",
    "x_train, x_test, y_train, y_test = train_test_split(features, target, test_size=0.3)"
   ]
  },
  {
   "cell_type": "markdown",
   "id": "7b977758",
   "metadata": {},
   "source": [
    "#### Step 2: Create a Scaled Dataset and Apply Logistic Regression"
   ]
  },
  {
   "cell_type": "code",
   "execution_count": 37,
   "id": "a7abe09b",
   "metadata": {},
   "outputs": [],
   "source": [
    "# Apply standardization to training set.\n",
    "\n",
    "scaler = StandardScaler()\n",
    "x_train_std = scaler.fit_transform(x_train)\n",
    "\n",
    "# Apply fitted scaler to test set.\n",
    "\n",
    "x_test_std = scaler.transform(x_test)"
   ]
  },
  {
   "cell_type": "code",
   "execution_count": 38,
   "id": "e2302ab6",
   "metadata": {},
   "outputs": [],
   "source": [
    "# Build Logistic Regression Model.\n",
    "\n",
    "log_reg = LogisticRegression(max_iter=1000)\n",
    "log_model = log_reg.fit(x_train_std, y_train)"
   ]
  },
  {
   "cell_type": "code",
   "execution_count": 39,
   "id": "31aac049",
   "metadata": {},
   "outputs": [],
   "source": [
    "# Predict y values on test set.\n",
    "\n",
    "y_pred = log_model.predict(x_test_std)"
   ]
  },
  {
   "cell_type": "code",
   "execution_count": 40,
   "id": "25c03714",
   "metadata": {},
   "outputs": [
    {
     "name": "stdout",
     "output_type": "stream",
     "text": [
      "Confusion Matrix:\n"
     ]
    },
    {
     "data": {
      "text/html": [
       "<div>\n",
       "<style scoped>\n",
       "    .dataframe tbody tr th:only-of-type {\n",
       "        vertical-align: middle;\n",
       "    }\n",
       "\n",
       "    .dataframe tbody tr th {\n",
       "        vertical-align: top;\n",
       "    }\n",
       "\n",
       "    .dataframe thead th {\n",
       "        text-align: right;\n",
       "    }\n",
       "</style>\n",
       "<table border=\"1\" class=\"dataframe\">\n",
       "  <thead>\n",
       "    <tr style=\"text-align: right;\">\n",
       "      <th></th>\n",
       "      <th>Pred: 0</th>\n",
       "      <th>Pred: 1</th>\n",
       "    </tr>\n",
       "  </thead>\n",
       "  <tbody>\n",
       "    <tr>\n",
       "      <th>Actual: 0</th>\n",
       "      <td>522327</td>\n",
       "      <td>4432</td>\n",
       "    </tr>\n",
       "    <tr>\n",
       "      <th>Actual: 1</th>\n",
       "      <td>63002</td>\n",
       "      <td>6626</td>\n",
       "    </tr>\n",
       "  </tbody>\n",
       "</table>\n",
       "</div>"
      ],
      "text/plain": [
       "           Pred: 0  Pred: 1\n",
       "Actual: 0   522327     4432\n",
       "Actual: 1    63002     6626"
      ]
     },
     "execution_count": 40,
     "metadata": {},
     "output_type": "execute_result"
    }
   ],
   "source": [
    "# Print confusion matrix.\n",
    "\n",
    "print('Confusion Matrix:')\n",
    "pd.DataFrame(confusion_matrix(y_test, y_pred),columns=['Pred: 0', 'Pred: 1'], index=['Actual: 0', 'Actual: 1'])"
   ]
  },
  {
   "cell_type": "code",
   "execution_count": 41,
   "id": "73a0ea8c",
   "metadata": {},
   "outputs": [
    {
     "name": "stdout",
     "output_type": "stream",
     "text": [
      "              precision    recall  f1-score   support\n",
      "\n",
      "           0       0.89      0.99      0.94    526759\n",
      "           1       0.60      0.10      0.16     69628\n",
      "\n",
      "    accuracy                           0.89    596387\n",
      "   macro avg       0.75      0.54      0.55    596387\n",
      "weighted avg       0.86      0.89      0.85    596387\n",
      "\n"
     ]
    }
   ],
   "source": [
    "# Print Precision, Recall, and F1\n",
    "\n",
    "print(classification_report(y_test, y_pred))"
   ]
  },
  {
   "cell_type": "markdown",
   "id": "cff5e9e9",
   "metadata": {},
   "source": [
    "**Summary of Logistic Regression**\n",
    "\n",
    "While our model achieves an 89% accuracy score, the model does not predict our underinsured very well. Underinsured is only predicted accurately 10,468 times while it does the false negatives are 58,945. Another way to look at this model is that the underinsured is only 11% of the total population, so our model is only marginally better than assuming all values are properly insured (i.e. not underinsureds)."
   ]
  },
  {
   "cell_type": "markdown",
   "id": "916fd8c9",
   "metadata": {},
   "source": [
    "#### Step 3: Rerun Logistic Regression after Oversampling Target Class"
   ]
  },
  {
   "cell_type": "code",
   "execution_count": 42,
   "id": "6b232d05",
   "metadata": {},
   "outputs": [],
   "source": [
    "# Apply standardization to training set.\n",
    "\n",
    "scaler = StandardScaler()\n",
    "x_train_std = scaler.fit_transform(x_train)\n",
    "\n",
    "# Apply fitted scaler to test set.\n",
    "\n",
    "x_test_std = scaler.transform(x_test)"
   ]
  },
  {
   "cell_type": "code",
   "execution_count": 43,
   "id": "a23eee7d",
   "metadata": {},
   "outputs": [],
   "source": [
    "# Apply resampling using SMOTE\n",
    "# WARNING: THIS CELL RUN TIME IS ~2 MIN\n",
    "\n",
    "sm = SMOTE()\n",
    "x_train_stdres, y_train_res = sm.fit_resample(x_train_std, y_train)"
   ]
  },
  {
   "cell_type": "code",
   "execution_count": 44,
   "id": "c06a608e",
   "metadata": {},
   "outputs": [
    {
     "name": "stdout",
     "output_type": "stream",
     "text": [
      "Shape of resampled feature set: (2457960, 165)\n",
      "0    1228980\n",
      "1    1228980\n",
      "Name: Underinsured, dtype: int64\n"
     ]
    }
   ],
   "source": [
    "# Verify the shape of resampled data.\n",
    "\n",
    "print(f'Shape of resampled feature set: {x_train_stdres.shape}')\n",
    "\n",
    "# Verify the target variable is balanced.\n",
    "\n",
    "print(y_train_res.value_counts())"
   ]
  },
  {
   "cell_type": "code",
   "execution_count": 45,
   "id": "1682fe84",
   "metadata": {},
   "outputs": [],
   "source": [
    "# Build Logistic Regression Model.\n",
    "\n",
    "log_reg = LogisticRegression(max_iter=1000)\n",
    "log_model2 = log_reg.fit(x_train_stdres, y_train_res)"
   ]
  },
  {
   "cell_type": "code",
   "execution_count": 46,
   "id": "09e22935",
   "metadata": {},
   "outputs": [],
   "source": [
    "# Predict y values on test set.\n",
    "\n",
    "y_pred2 = log_model2.predict(x_test_std)"
   ]
  },
  {
   "cell_type": "code",
   "execution_count": 47,
   "id": "a1a81988",
   "metadata": {},
   "outputs": [
    {
     "name": "stdout",
     "output_type": "stream",
     "text": [
      "Confusion Matrix:\n"
     ]
    },
    {
     "data": {
      "text/html": [
       "<div>\n",
       "<style scoped>\n",
       "    .dataframe tbody tr th:only-of-type {\n",
       "        vertical-align: middle;\n",
       "    }\n",
       "\n",
       "    .dataframe tbody tr th {\n",
       "        vertical-align: top;\n",
       "    }\n",
       "\n",
       "    .dataframe thead th {\n",
       "        text-align: right;\n",
       "    }\n",
       "</style>\n",
       "<table border=\"1\" class=\"dataframe\">\n",
       "  <thead>\n",
       "    <tr style=\"text-align: right;\">\n",
       "      <th></th>\n",
       "      <th>Pred: 0</th>\n",
       "      <th>Pred: 1</th>\n",
       "    </tr>\n",
       "  </thead>\n",
       "  <tbody>\n",
       "    <tr>\n",
       "      <th>Actual: 0</th>\n",
       "      <td>382901</td>\n",
       "      <td>143858</td>\n",
       "    </tr>\n",
       "    <tr>\n",
       "      <th>Actual: 1</th>\n",
       "      <td>18250</td>\n",
       "      <td>51378</td>\n",
       "    </tr>\n",
       "  </tbody>\n",
       "</table>\n",
       "</div>"
      ],
      "text/plain": [
       "           Pred: 0  Pred: 1\n",
       "Actual: 0   382901   143858\n",
       "Actual: 1    18250    51378"
      ]
     },
     "execution_count": 47,
     "metadata": {},
     "output_type": "execute_result"
    }
   ],
   "source": [
    "# Print confusion matrix.\n",
    "\n",
    "print('Confusion Matrix:')\n",
    "pd.DataFrame(confusion_matrix(y_test, y_pred2),columns=['Pred: 0', 'Pred: 1'], index=['Actual: 0', 'Actual: 1'])"
   ]
  },
  {
   "cell_type": "code",
   "execution_count": 48,
   "id": "8db943e1",
   "metadata": {},
   "outputs": [
    {
     "name": "stdout",
     "output_type": "stream",
     "text": [
      "              precision    recall  f1-score   support\n",
      "\n",
      "           0       0.95      0.73      0.83    526759\n",
      "           1       0.26      0.74      0.39     69628\n",
      "\n",
      "    accuracy                           0.73    596387\n",
      "   macro avg       0.61      0.73      0.61    596387\n",
      "weighted avg       0.87      0.73      0.77    596387\n",
      "\n"
     ]
    }
   ],
   "source": [
    "# Print Precision, Recall, and F1\n",
    "\n",
    "print(classification_report(y_test, y_pred2))"
   ]
  },
  {
   "cell_type": "markdown",
   "id": "69e22468",
   "metadata": {},
   "source": [
    "#### Step 5: Rerun the Scaled and Resampled Data Using Random Forest."
   ]
  },
  {
   "cell_type": "code",
   "execution_count": 49,
   "id": "73501d02",
   "metadata": {},
   "outputs": [],
   "source": [
    "# Create a Random Forest Classification object.\n",
    "# WARNING: THIS CELL RUN TIME IS ~2 MIN\n",
    "\n",
    "rf = RandomForestClassifier(max_depth=10, n_jobs=-1)\n",
    "rf_model = rf.fit(x_train_stdres, y_train_res)"
   ]
  },
  {
   "cell_type": "code",
   "execution_count": 50,
   "id": "52e47823",
   "metadata": {},
   "outputs": [],
   "source": [
    "# Predict y values on test set.\n",
    "\n",
    "y_pred3 = rf_model.predict(x_test_std)"
   ]
  },
  {
   "cell_type": "code",
   "execution_count": 51,
   "id": "e1b5f47b",
   "metadata": {},
   "outputs": [
    {
     "name": "stdout",
     "output_type": "stream",
     "text": [
      "Confusion Matrix:\n"
     ]
    },
    {
     "data": {
      "text/html": [
       "<div>\n",
       "<style scoped>\n",
       "    .dataframe tbody tr th:only-of-type {\n",
       "        vertical-align: middle;\n",
       "    }\n",
       "\n",
       "    .dataframe tbody tr th {\n",
       "        vertical-align: top;\n",
       "    }\n",
       "\n",
       "    .dataframe thead th {\n",
       "        text-align: right;\n",
       "    }\n",
       "</style>\n",
       "<table border=\"1\" class=\"dataframe\">\n",
       "  <thead>\n",
       "    <tr style=\"text-align: right;\">\n",
       "      <th></th>\n",
       "      <th>Pred: 0</th>\n",
       "      <th>Pred: 1</th>\n",
       "    </tr>\n",
       "  </thead>\n",
       "  <tbody>\n",
       "    <tr>\n",
       "      <th>Actual: 0</th>\n",
       "      <td>415245</td>\n",
       "      <td>111514</td>\n",
       "    </tr>\n",
       "    <tr>\n",
       "      <th>Actual: 1</th>\n",
       "      <td>19216</td>\n",
       "      <td>50412</td>\n",
       "    </tr>\n",
       "  </tbody>\n",
       "</table>\n",
       "</div>"
      ],
      "text/plain": [
       "           Pred: 0  Pred: 1\n",
       "Actual: 0   415245   111514\n",
       "Actual: 1    19216    50412"
      ]
     },
     "execution_count": 51,
     "metadata": {},
     "output_type": "execute_result"
    }
   ],
   "source": [
    "# Print confusion matrix.\n",
    "\n",
    "print('Confusion Matrix:')\n",
    "pd.DataFrame(confusion_matrix(y_test, y_pred3),columns=['Pred: 0', 'Pred: 1'], index=['Actual: 0', 'Actual: 1'])"
   ]
  },
  {
   "cell_type": "code",
   "execution_count": 52,
   "id": "053ab8b9",
   "metadata": {
    "scrolled": true
   },
   "outputs": [
    {
     "name": "stdout",
     "output_type": "stream",
     "text": [
      "              precision    recall  f1-score   support\n",
      "\n",
      "           0       0.96      0.79      0.86    526759\n",
      "           1       0.31      0.72      0.44     69628\n",
      "\n",
      "    accuracy                           0.78    596387\n",
      "   macro avg       0.63      0.76      0.65    596387\n",
      "weighted avg       0.88      0.78      0.81    596387\n",
      "\n"
     ]
    }
   ],
   "source": [
    "# Print Precision, Recall, and F1\n",
    "\n",
    "print(classification_report(y_test, y_pred3))"
   ]
  },
  {
   "cell_type": "markdown",
   "id": "56343858",
   "metadata": {},
   "source": [
    "**Conclusion:**"
   ]
  },
  {
   "cell_type": "markdown",
   "id": "a126e399",
   "metadata": {},
   "source": [
    "Our benchmark model is a basic logistic regression model without oversampling. The model had an accuracy of 89%, but that is because our class is imbalanced and the model is mostly predicting a policyholder is properly insured. Our goal is to select a model with a high f1 score when predicting underinsureds. The benchmark model produced only a 0.16 f1 score. This is an unsuitable result for our approach.\n",
    "\n",
    "After applying SMOTE, the logistic and random forest models were run. Logistic regression produced a 0.39 f1 score, and the random forest produced a 0.43 f1 score. The logistic regression model accurately labeled 74% of the actual underinsured class, although the recall was low at 0.26. The random forest produced a slightly lower recall score of 0.72 but an improved precision score of 0.31. Both models perform better than the benchmark, but the random forest has a slight edge over logistic regression given its better f1 score."
   ]
  },
  {
   "cell_type": "markdown",
   "id": "7f8b6d4f",
   "metadata": {},
   "source": [
    "# FINAL SUBMISSION: Model Updates"
   ]
  },
  {
   "cell_type": "markdown",
   "id": "a5c4507c",
   "metadata": {},
   "source": [
    "Additional attempts will be made to modify the model selected by running an AdaBoost model."
   ]
  },
  {
   "cell_type": "code",
   "execution_count": 53,
   "id": "d05decd6",
   "metadata": {},
   "outputs": [],
   "source": [
    "# Create a AdaBoost model.\n",
    "# WARNING: This cell takes several minutes to run.\n",
    "\n",
    "ada = AdaBoostClassifier()\n",
    "ada_model = ada.fit(x_train_stdres, y_train_res)"
   ]
  },
  {
   "cell_type": "code",
   "execution_count": 54,
   "id": "074c31a8",
   "metadata": {},
   "outputs": [],
   "source": [
    "# Predict y values on test set.\n",
    "\n",
    "y_pred4 = ada_model.predict(x_test_std)"
   ]
  },
  {
   "cell_type": "code",
   "execution_count": 55,
   "id": "45b3161b",
   "metadata": {},
   "outputs": [
    {
     "name": "stdout",
     "output_type": "stream",
     "text": [
      "Confusion Matrix:\n"
     ]
    },
    {
     "data": {
      "text/html": [
       "<div>\n",
       "<style scoped>\n",
       "    .dataframe tbody tr th:only-of-type {\n",
       "        vertical-align: middle;\n",
       "    }\n",
       "\n",
       "    .dataframe tbody tr th {\n",
       "        vertical-align: top;\n",
       "    }\n",
       "\n",
       "    .dataframe thead th {\n",
       "        text-align: right;\n",
       "    }\n",
       "</style>\n",
       "<table border=\"1\" class=\"dataframe\">\n",
       "  <thead>\n",
       "    <tr style=\"text-align: right;\">\n",
       "      <th></th>\n",
       "      <th>Pred: 0</th>\n",
       "      <th>Pred: 1</th>\n",
       "    </tr>\n",
       "  </thead>\n",
       "  <tbody>\n",
       "    <tr>\n",
       "      <th>Actual: 0</th>\n",
       "      <td>418525</td>\n",
       "      <td>108234</td>\n",
       "    </tr>\n",
       "    <tr>\n",
       "      <th>Actual: 1</th>\n",
       "      <td>19448</td>\n",
       "      <td>50180</td>\n",
       "    </tr>\n",
       "  </tbody>\n",
       "</table>\n",
       "</div>"
      ],
      "text/plain": [
       "           Pred: 0  Pred: 1\n",
       "Actual: 0   418525   108234\n",
       "Actual: 1    19448    50180"
      ]
     },
     "execution_count": 55,
     "metadata": {},
     "output_type": "execute_result"
    }
   ],
   "source": [
    "# Print confusion matrix.\n",
    "\n",
    "print('Confusion Matrix:')\n",
    "pd.DataFrame(confusion_matrix(y_test, y_pred4),columns=['Pred: 0', 'Pred: 1'], index=['Actual: 0', 'Actual: 1'])"
   ]
  },
  {
   "cell_type": "code",
   "execution_count": 56,
   "id": "70206cfa",
   "metadata": {},
   "outputs": [
    {
     "name": "stdout",
     "output_type": "stream",
     "text": [
      "              precision    recall  f1-score   support\n",
      "\n",
      "           0       0.96      0.79      0.87    526759\n",
      "           1       0.32      0.72      0.44     69628\n",
      "\n",
      "    accuracy                           0.79    596387\n",
      "   macro avg       0.64      0.76      0.65    596387\n",
      "weighted avg       0.88      0.79      0.82    596387\n",
      "\n"
     ]
    }
   ],
   "source": [
    "# Print Precision, Recall, and F1\n",
    "\n",
    "print(classification_report(y_test, y_pred4))"
   ]
  },
  {
   "cell_type": "markdown",
   "id": "2d9fb58d",
   "metadata": {},
   "source": [
    "#### Tune Random Forest model to improve recall."
   ]
  },
  {
   "cell_type": "code",
   "execution_count": 59,
   "id": "82ed9171",
   "metadata": {},
   "outputs": [],
   "source": [
    "# Select the tuning parameters. We will tune on recall since we are trying to predict as many underinsureds as possible.\n",
    "\n",
    "SCORE = 'recall'\n",
    "PARAMS = {'n_estimators': [10,100,200],\n",
    "          'max_features': [5, 7, 'sqrt']}\n",
    "\n",
    "# Initiate Random Forest Model\n",
    "rf1 = RandomForestClassifier()\n",
    "\n",
    "# Run Random Search CV\n",
    "gridsearch = GridSearchCV(rf1, cv=3, scoring=SCORE, param_grid=PARAMS, verbose=2)"
   ]
  },
  {
   "cell_type": "code",
   "execution_count": 60,
   "id": "6cced2de",
   "metadata": {},
   "outputs": [
    {
     "name": "stdout",
     "output_type": "stream",
     "text": [
      "Fitting 3 folds for each of 9 candidates, totalling 27 fits\n",
      "[CV] END ....................max_features=5, n_estimators=10; total time= 1.3min\n",
      "[CV] END ....................max_features=5, n_estimators=10; total time= 1.2min\n",
      "[CV] END ....................max_features=5, n_estimators=10; total time= 1.2min\n",
      "[CV] END ...................max_features=5, n_estimators=100; total time=11.6min\n",
      "[CV] END ...................max_features=5, n_estimators=100; total time=11.6min\n",
      "[CV] END ...................max_features=5, n_estimators=100; total time=11.8min\n",
      "[CV] END ...................max_features=5, n_estimators=200; total time=23.2min\n",
      "[CV] END ...................max_features=5, n_estimators=200; total time=27.5min\n",
      "[CV] END ...................max_features=5, n_estimators=200; total time=23.3min\n",
      "[CV] END ....................max_features=7, n_estimators=10; total time= 1.3min\n",
      "[CV] END ....................max_features=7, n_estimators=10; total time= 1.3min\n",
      "[CV] END ....................max_features=7, n_estimators=10; total time= 1.3min\n",
      "[CV] END ...................max_features=7, n_estimators=100; total time=13.7min\n",
      "[CV] END ...................max_features=7, n_estimators=100; total time=13.0min\n",
      "[CV] END ...................max_features=7, n_estimators=100; total time=12.9min\n",
      "[CV] END ...................max_features=7, n_estimators=200; total time=25.2min\n",
      "[CV] END ...................max_features=7, n_estimators=200; total time=25.4min\n",
      "[CV] END ...................max_features=7, n_estimators=200; total time=25.4min\n",
      "[CV] END .................max_features=sqrt, n_estimators=10; total time= 1.6min\n",
      "[CV] END .................max_features=sqrt, n_estimators=10; total time= 1.6min\n",
      "[CV] END .................max_features=sqrt, n_estimators=10; total time= 1.5min\n",
      "[CV] END ................max_features=sqrt, n_estimators=100; total time=25.9min\n",
      "[CV] END ...............max_features=sqrt, n_estimators=100; total time=269.7min\n",
      "[CV] END ................max_features=sqrt, n_estimators=100; total time=16.7min\n",
      "[CV] END ................max_features=sqrt, n_estimators=200; total time=30.2min\n",
      "[CV] END ................max_features=sqrt, n_estimators=200; total time=30.6min\n",
      "[CV] END ................max_features=sqrt, n_estimators=200; total time=30.4min\n"
     ]
    }
   ],
   "source": [
    "# Fit grid search.\n",
    "# WARNING: THIS CELL WILL TAKE APPROXIMATELY 7-8 HOURS TO RUN.\n",
    "\n",
    "best_model = gridsearch.fit(x_train_stdres, y_train_res)"
   ]
  },
  {
   "cell_type": "code",
   "execution_count": 61,
   "id": "9829807f",
   "metadata": {},
   "outputs": [],
   "source": [
    "# Predict y values on test set.\n",
    "\n",
    "y_pred5 = best_model.predict(x_test_std)"
   ]
  },
  {
   "cell_type": "code",
   "execution_count": 62,
   "id": "e83824ac",
   "metadata": {},
   "outputs": [
    {
     "name": "stdout",
     "output_type": "stream",
     "text": [
      "              precision    recall  f1-score   support\n",
      "\n",
      "           0       0.95      0.90      0.92    526759\n",
      "           1       0.46      0.64      0.53     69628\n",
      "\n",
      "    accuracy                           0.87    596387\n",
      "   macro avg       0.70      0.77      0.73    596387\n",
      "weighted avg       0.89      0.87      0.88    596387\n",
      "\n"
     ]
    }
   ],
   "source": [
    "# Print Precision, Recall, and F1\n",
    "\n",
    "print(classification_report(y_test, y_pred5))"
   ]
  },
  {
   "cell_type": "code",
   "execution_count": 63,
   "id": "0f7ae281",
   "metadata": {},
   "outputs": [
    {
     "name": "stdout",
     "output_type": "stream",
     "text": [
      "Confusion Matrix:\n"
     ]
    },
    {
     "data": {
      "text/html": [
       "<div>\n",
       "<style scoped>\n",
       "    .dataframe tbody tr th:only-of-type {\n",
       "        vertical-align: middle;\n",
       "    }\n",
       "\n",
       "    .dataframe tbody tr th {\n",
       "        vertical-align: top;\n",
       "    }\n",
       "\n",
       "    .dataframe thead th {\n",
       "        text-align: right;\n",
       "    }\n",
       "</style>\n",
       "<table border=\"1\" class=\"dataframe\">\n",
       "  <thead>\n",
       "    <tr style=\"text-align: right;\">\n",
       "      <th></th>\n",
       "      <th>Pred: 0</th>\n",
       "      <th>Pred: 1</th>\n",
       "    </tr>\n",
       "  </thead>\n",
       "  <tbody>\n",
       "    <tr>\n",
       "      <th>Actual: 0</th>\n",
       "      <td>474689</td>\n",
       "      <td>52070</td>\n",
       "    </tr>\n",
       "    <tr>\n",
       "      <th>Actual: 1</th>\n",
       "      <td>25302</td>\n",
       "      <td>44326</td>\n",
       "    </tr>\n",
       "  </tbody>\n",
       "</table>\n",
       "</div>"
      ],
      "text/plain": [
       "           Pred: 0  Pred: 1\n",
       "Actual: 0   474689    52070\n",
       "Actual: 1    25302    44326"
      ]
     },
     "execution_count": 63,
     "metadata": {},
     "output_type": "execute_result"
    }
   ],
   "source": [
    "# Print confusion matrix.\n",
    "\n",
    "print('Confusion Matrix:')\n",
    "pd.DataFrame(confusion_matrix(y_test, y_pred5),columns=['Pred: 0', 'Pred: 1'], index=['Actual: 0', 'Actual: 1'])"
   ]
  },
  {
   "cell_type": "code",
   "execution_count": 68,
   "id": "8a5cbf3a",
   "metadata": {},
   "outputs": [
    {
     "name": "stdout",
     "output_type": "stream",
     "text": [
      "Parameters for the best model:\n"
     ]
    },
    {
     "data": {
      "text/plain": [
       "{'max_features': 5, 'n_estimators': 200}"
      ]
     },
     "execution_count": 68,
     "metadata": {},
     "output_type": "execute_result"
    }
   ],
   "source": [
    "# Best Model Parameters\n",
    "\n",
    "print(\"Parameters for the best model:\")\n",
    "best_model.best_params_"
   ]
  },
  {
   "cell_type": "code",
   "execution_count": null,
   "id": "55f15c25",
   "metadata": {},
   "outputs": [],
   "source": []
  }
 ],
 "metadata": {
  "kernelspec": {
   "display_name": "Python 3 (ipykernel)",
   "language": "python",
   "name": "python3"
  },
  "language_info": {
   "codemirror_mode": {
    "name": "ipython",
    "version": 3
   },
   "file_extension": ".py",
   "mimetype": "text/x-python",
   "name": "python",
   "nbconvert_exporter": "python",
   "pygments_lexer": "ipython3",
   "version": "3.9.7"
  }
 },
 "nbformat": 4,
 "nbformat_minor": 5
}
